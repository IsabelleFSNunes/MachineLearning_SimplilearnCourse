{
  "nbformat": 4,
  "nbformat_minor": 0,
  "metadata": {
    "colab": {
      "provenance": [],
      "authorship_tag": "ABX9TyMB4E3Ey18EJ+z/lsS7N1XR"
    },
    "kernelspec": {
      "name": "python3",
      "display_name": "Python 3"
    },
    "language_info": {
      "name": "python"
    }
  },
  "cells": [
    {
      "cell_type": "markdown",
      "source": [
        "### Import the required libraries"
      ],
      "metadata": {
        "id": "YZ6HV3DU_m9e"
      }
    },
    {
      "cell_type": "code",
      "execution_count": 1,
      "metadata": {
        "id": "lOGKqSeI_L4A"
      },
      "outputs": [],
      "source": [
        "import numpy as np\n",
        "import pandas as pd\n",
        "import matplotlib.pyplot as plt\n",
        "import seaborn as sns\n",
        "\n",
        "from sklearn import datasets\n",
        "from sklearn.model_selection import train_test_split"
      ]
    },
    {
      "cell_type": "markdown",
      "source": [
        "### import dataset"
      ],
      "metadata": {
        "id": "ixfOzw3DGhs1"
      }
    },
    {
      "cell_type": "code",
      "source": [
        "bc = datasets.load_breast_cancer()\n",
        "\n",
        "X = bc.data\n",
        "y = bc.target"
      ],
      "metadata": {
        "id": "vLRJ32tlGkQF"
      },
      "execution_count": 5,
      "outputs": []
    },
    {
      "cell_type": "code",
      "source": [
        "X_train, X_test, y_train, y_test = train_test_split(X, y,\n",
        "                                                    test_size=0.3,\n",
        "                                                    random_state=42,\n",
        "                                                    stratify=y)"
      ],
      "metadata": {
        "id": "2riMB0ZWG07Y"
      },
      "execution_count": 6,
      "outputs": []
    },
    {
      "cell_type": "markdown",
      "source": [
        "### Create a class"
      ],
      "metadata": {
        "id": "AX8KUEdoHOMt"
      }
    },
    {
      "cell_type": "code",
      "source": [
        "class CustomPerceptron(object):\n",
        "  def __init__(self, n_iterations=100, random_state=1, learning_rate=0.01):\n",
        "    self.n_iterations= n_iterations\n",
        "    self.random_state= random_state\n",
        "    self.learning_rate= learning_rate\n",
        "\n",
        "  def fit(self, X, y):\n",
        "    rgen= np.random.RandomState(self.random_state)\n",
        "    self.coef_= rgen.normal( loc=0.0, scale=0.01, size= 1 + X.shape[1] )\n",
        "\n",
        "    for _ in range(self.n_iterations):\n",
        "      for xi, expected_value in zip(X,y):\n",
        "        predicted_value= self.predict(xi)\n",
        "        self.coef_[1:] += self.learning_rate * ( expected_value - predicted_value ) * xi\n",
        "        self.coef_[0]  += self.learning_rate * ( expected_value - predicted_value ) * 1\n",
        "\n",
        "\n",
        "  def activation(self, X):\n",
        "    return np.dot(X, self.coef_[1:]) + self.coef_[0]\n",
        "\n",
        "  def predict(self, X):\n",
        "    output= self.activation(X)\n",
        "\n",
        "    return np.where( output >= 0.0, 1, 0)\n",
        "\n",
        "  def score(self, X, y):\n",
        "    misclassified_data_count= 0\n",
        "\n",
        "    for xi, target in zip(X, y):\n",
        "      output= self.predict(xi)\n",
        "\n",
        "      if(target != output):\n",
        "        misclassified_data_count += 1\n",
        "\n",
        "    total_data_count= len(X)\n",
        "    self.score_= ( total_data_count - misclassified_data_count ) / total_data_count\n",
        "\n",
        "    return self.score_"
      ],
      "metadata": {
        "id": "iAUo5iHOHRsQ"
      },
      "execution_count": 11,
      "outputs": []
    },
    {
      "cell_type": "code",
      "source": [
        "## definitions of parameters\n",
        "n_iterations= 100\n",
        "learning_rate= 0.01"
      ],
      "metadata": {
        "id": "97HueUVgKJ5W"
      },
      "execution_count": 3,
      "outputs": []
    },
    {
      "cell_type": "code",
      "source": [
        "prcptrn= CustomPerceptron()\n",
        "prcptrn.fit( X_train, y_train )\n",
        "\n",
        "print( f'The score of Training data is : {prcptrn.score(X_train, y_train)}' )"
      ],
      "metadata": {
        "colab": {
          "base_uri": "https://localhost:8080/"
        },
        "id": "K0YLiLIxK5Jy",
        "outputId": "f7b426c4-cfcc-4aec-99f6-a41327f4d85a"
      },
      "execution_count": 14,
      "outputs": [
        {
          "output_type": "stream",
          "name": "stdout",
          "text": [
            "The score of Training data is : 0.9296482412060302\n"
          ]
        }
      ]
    },
    {
      "cell_type": "code",
      "source": [
        "print( f'The score of Test data is : {prcptrn.score(X_test, y_test)}' )\n"
      ],
      "metadata": {
        "colab": {
          "base_uri": "https://localhost:8080/"
        },
        "id": "L59GJVPsL_k1",
        "outputId": "2a03f9bd-9f30-4290-8ea1-439b367cfad5"
      },
      "execution_count": 13,
      "outputs": [
        {
          "output_type": "stream",
          "name": "stdout",
          "text": [
            "The score of Test data is : 0.9064327485380117\n"
          ]
        }
      ]
    }
  ]
}